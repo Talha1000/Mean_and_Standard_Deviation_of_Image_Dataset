{
 "cells": [
  {
   "cell_type": "code",
   "execution_count": 1,
   "id": "a831ce9e",
   "metadata": {},
   "outputs": [],
   "source": [
    "import os\n",
    "import torch\n",
    "import torchvision\n",
    "import torchvision.transforms as transforms"
   ]
  },
  {
   "cell_type": "code",
   "execution_count": 2,
   "id": "10ce1696",
   "metadata": {},
   "outputs": [
    {
     "data": {
      "text/plain": [
       "['IMG_20220924_072105_Resized_image.jpg',\n",
       " 'IMG_20220924_072146_Resized_image.jpg',\n",
       " 'IMG_20220924_072200_Resized_image.jpg',\n",
       " 'IMG_20220924_072309_Resized_image.jpg',\n",
       " 'IMG_20220924_072336_Resized_image.jpg',\n",
       " 'IMG_20220924_072339_Resized_image.jpg',\n",
       " 'IMG_20220924_072351_Resized_image.jpg',\n",
       " 'IMG_20220924_072416_Resized_image.jpg',\n",
       " 'IMG_20220924_072445_Resized_image.jpg',\n",
       " 'IMG_20220924_072452_Resized_image.jpg',\n",
       " 'IMG_20220924_072459_Resized_image.jpg',\n",
       " 'IMG_20220924_072503_Resized_image.jpg',\n",
       " 'IMG_20220924_072513_Resized_image.jpg',\n",
       " 'IMG_20220924_072541_Resized_image.jpg',\n",
       " 'IMG_20220924_072558_Resized_image.jpg',\n",
       " 'IMG_20220924_072606_Resized_image.jpg',\n",
       " 'IMG_20220924_072629_Resized_image.jpg',\n",
       " 'IMG_20220924_072730_Resized_image.jpg',\n",
       " 'IMG_20220924_072743_Resized_image.jpg',\n",
       " 'IMG_20220924_072750_Resized_image.jpg',\n",
       " 'IMG_20220924_072807_Resized_image.jpg',\n",
       " 'IMG_20220924_073028_Resized_image.jpg',\n",
       " 'IMG_20220924_073048_Resized_image.jpg',\n",
       " 'IMG_20220924_073219_Resized_image.jpg',\n",
       " 'IMG_20220924_073236_Resized_image.jpg',\n",
       " 'IMG_20220924_073244_Resized_image.jpg',\n",
       " 'IMG_20220924_073447_Resized_image.jpg',\n",
       " 'IMG_20220924_073452_Resized_image.jpg',\n",
       " 'IMG_20220924_073651_Resized_image.jpg',\n",
       " 'IMG_20220924_073819_Resized_image.jpg']"
      ]
     },
     "execution_count": 2,
     "metadata": {},
     "output_type": "execute_result"
    }
   ],
   "source": [
    "os.listdir('WhiteSpotData/train/Resized_Dataset')"
   ]
  },
  {
   "cell_type": "code",
   "execution_count": 12,
   "id": "376a3974",
   "metadata": {},
   "outputs": [],
   "source": [
    "training_dataset_path = 'WhiteSpotData/train'"
   ]
  },
  {
   "cell_type": "code",
   "execution_count": 13,
   "id": "6b79b63b",
   "metadata": {},
   "outputs": [],
   "source": [
    "training_transforms = transforms.Compose([transforms.Resize((164,164)), transforms.ToTensor()])"
   ]
  },
  {
   "cell_type": "code",
   "execution_count": 14,
   "id": "f93eb8bf",
   "metadata": {},
   "outputs": [],
   "source": [
    "train_dataset = torchvision.datasets.ImageFolder(root = training_dataset_path, transform = training_transforms)"
   ]
  },
  {
   "cell_type": "code",
   "execution_count": 15,
   "id": "5ffdaf94",
   "metadata": {},
   "outputs": [],
   "source": [
    "train_loader = torch.utils.data.DataLoader(dataset = train_dataset, batch_size = 32, shuffle = False)"
   ]
  },
  {
   "cell_type": "code",
   "execution_count": 24,
   "id": "4aa93830",
   "metadata": {},
   "outputs": [],
   "source": [
    "def mean_and_std(loader):\n",
    "    mean = 0\n",
    "    std = 0\n",
    "    total_images_count = 0\n",
    "    for images, _ in loader:\n",
    "        image_count_in_batch = images.size(0)\n",
    "        print(images.shape)\n",
    "        images = images.view(image_count_in_batch, images.size(1), -1)\n",
    "        print(images.shape)\n",
    "        mean += images.mean(2).sum(0)\n",
    "        std += images.std(2).sum(0)\n",
    "        total_images_count += image_count_in_batch\n",
    "    mean /= total_images_count\n",
    "    std /= total_images_count\n",
    "    \n",
    "    return mean, std"
   ]
  },
  {
   "cell_type": "code",
   "execution_count": 25,
   "id": "aeefdcdd",
   "metadata": {},
   "outputs": [
    {
     "name": "stdout",
     "output_type": "stream",
     "text": [
      "torch.Size([30, 3, 164, 164])\n",
      "torch.Size([30, 3, 26896])\n"
     ]
    },
    {
     "data": {
      "text/plain": [
       "(tensor([0.5536, 0.4700, 0.4514]), tensor([0.1796, 0.1826, 0.1835]))"
      ]
     },
     "execution_count": 25,
     "metadata": {},
     "output_type": "execute_result"
    }
   ],
   "source": [
    "mean_and_std(train_loader)"
   ]
  },
  {
   "cell_type": "code",
   "execution_count": null,
   "id": "9fd20ff2",
   "metadata": {},
   "outputs": [],
   "source": []
  }
 ],
 "metadata": {
  "kernelspec": {
   "display_name": "Python 3 (ipykernel)",
   "language": "python",
   "name": "python3"
  },
  "language_info": {
   "codemirror_mode": {
    "name": "ipython",
    "version": 3
   },
   "file_extension": ".py",
   "mimetype": "text/x-python",
   "name": "python",
   "nbconvert_exporter": "python",
   "pygments_lexer": "ipython3",
   "version": "3.9.7"
  }
 },
 "nbformat": 4,
 "nbformat_minor": 5
}
